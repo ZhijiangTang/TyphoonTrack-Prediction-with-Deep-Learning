{
 "cells": [
  {
   "cell_type": "code",
   "execution_count": 1,
   "id": "f9e6d581",
   "metadata": {
    "pycharm": {
     "name": "#%%\n"
    }
   },
   "outputs": [
    {
     "name": "stderr",
     "output_type": "stream",
     "text": [
      "C:\\Users\\Tom\\anaconda3\\envs\\main\\lib\\site-packages\\tqdm\\auto.py:21: TqdmWarning: IProgress not found. Please update jupyter and ipywidgets. See https://ipywidgets.readthedocs.io/en/stable/user_install.html\n",
      "  from .autonotebook import tqdm as notebook_tqdm\n"
     ]
    }
   ],
   "source": [
    "import random\n",
    "import numpy as np\n",
    "import pandas as pd\n",
    "import torch\n",
    "from data import MyData\n",
    "from torch.utils.data import DataLoader\n",
    "from model import BaseLSTM,MyModel,MyLSTM\n",
    "import matplotlib.pyplot as plt\n",
    "\n",
    "device = torch.device('cuda' if torch.cuda.is_available() else 'cpu')\n",
    "mycolors = plt.cm.RdBu(list(range(0,256,256//10)))\n",
    "\n",
    "def setup_seed(seed):\n",
    "\ttorch.manual_seed(seed)\n",
    "\ttorch.cuda.manual_seed_all(seed)\n",
    "\tnp.random.seed(seed)\n",
    "\trandom.seed(seed)"
   ]
  },
  {
   "cell_type": "code",
   "execution_count": 2,
   "outputs": [
    {
     "name": "stdout",
     "output_type": "stream",
     "text": [
      "加载数据，总共有 152 个台风， 4539 条台风数据\n",
      "总共生成 3931 个序列\n",
      "总共生成 2882 个序列\n"
     ]
    },
    {
     "data": {
      "text/plain": "23056"
     },
     "execution_count": 2,
     "metadata": {},
     "output_type": "execute_result"
    }
   ],
   "source": [
    "testdata = MyData(data_path='./data/TestData.json', l=4, frac=1)\n",
    "testdata.get_xpredict_sequence(x=8,update=True)\n",
    "(len(testdata)*8)"
   ],
   "metadata": {
    "collapsed": false,
    "pycharm": {
     "name": "#%%\n"
    }
   }
  },
  {
   "cell_type": "code",
   "execution_count": 2,
   "outputs": [],
   "source": [],
   "metadata": {
    "collapsed": false,
    "pycharm": {
     "name": "#%%\n"
    }
   }
  },
  {
   "cell_type": "code",
   "execution_count": 3,
   "outputs": [],
   "source": [
    "RMSE = {}\n",
    "\n",
    "def Predict(model=BaseLSTM().to(device), model_name='24h',t=1):\n",
    "\n",
    "    model.load_state_dict(torch.load(f'checkpoints/{model_name}/best.pth'))\n",
    "    testdata = MyData(data_path='./data/TestData.json', l=4, frac=1)\n",
    "    testdata.get_xpredict_sequence(x=t,update=True)\n",
    "    batch_size = 4096\n",
    "    test_dataloader = DataLoader(testdata, batch_size=batch_size, shuffle=False)\n",
    "\n",
    "    GT_Predict = pd.DataFrame(np.full([len(testdata)*t, 5], np.nan),\n",
    "                              columns=['True_lat', 'True_lon', 'Predict_lat', 'Predict_lon', 'SE'])\n",
    "\n",
    "    for i, batch in enumerate(test_dataloader):\n",
    "        Predict_y = []\n",
    "        X, y, _, _ = batch\n",
    "        X = X.to(device)\n",
    "        for j in range(t):\n",
    "            predict_y = model(X)\n",
    "            Predict_y.append(torch.unsqueeze(predict_y,dim=0))\n",
    "            X = torch.cat([X[:,1:,:], torch.unsqueeze(predict_y,dim=1)], dim=1)\n",
    "        Predict_y = torch.cat(Predict_y, dim=0)\n",
    "        Predict_y = Predict_y.permute(1, 0, 2)\n",
    "        Predict_y = torch.reshape(Predict_y, (-1,4))\n",
    "        Predict_y = testdata.inverse_norm(Predict_y.cpu().detach()).numpy()\n",
    "        true_y = testdata.inverse_norm(y.view(-1,4)).numpy()\n",
    "    GT_Predict.iloc[:, :2] = true_y[:, :2] * 0.1\n",
    "\n",
    "    GT_Predict.iloc[:, 2:4] = Predict_y[:, :2] * 0.1\n",
    "    GT_Predict.iloc[:, 4] = np.sum(np.square(GT_Predict.iloc[:, :2].values - GT_Predict.iloc[:, 2:4].values), axis=1)\n",
    "\n",
    "    GT_Predict.to_csv(f'checkpoints/{model_name}/TestPredict.csv')\n",
    "    RMSE[f'{model_name}-{t*6}h'] = np.sqrt(np.mean(GT_Predict['SE'].values))\n",
    "    print(RMSE)\n",
    "\n",
    "def test_19(model,model_name):\n",
    "    testdata = MyData(data_path='./data/TestData.json', l=4, frac=1, TaifengID=19)\n",
    "    batch_size = 4096\n",
    "    GT_Predict = pd.DataFrame(np.full([len(testdata), 5], np.nan),\n",
    "\t                          columns=['True_lat', 'True_lon', 'Predict_lat', 'Predict_lon', 'SE'])\n",
    "    test_dataloader = DataLoader(testdata, batch_size=batch_size, shuffle=False)\n",
    "    for i, batch in enumerate(test_dataloader):\n",
    "        X, y, _, _ = batch\n",
    "        model.eval()\n",
    "        predict_y = testdata.inverse_norm(model(X.to(device)).cpu().detach()).numpy()\n",
    "        true_y = testdata.inverse_norm(y).numpy()\n",
    "    GT_Predict.iloc[:, :2] = true_y[:, :2] * 0.1\n",
    "    GT_Predict.iloc[:, 2:4] = predict_y[:, :2] * 0.1\n",
    "    GT_Predict.iloc[:, 4] = np.sum(np.square(GT_Predict.iloc[:, :2].values - GT_Predict.iloc[:, 2:4].values), axis=1)\n",
    "    GT_Predict.to_csv(f'checkpoints/{model_name}/{model_name}_19Taifeng.csv')"
   ],
   "metadata": {
    "collapsed": false,
    "pycharm": {
     "name": "#%%\n"
    }
   }
  },
  {
   "cell_type": "code",
   "execution_count": null,
   "outputs": [],
   "source": [
    "from model import BaseLSTM,MyModel,MyLSTM,BPNetModel,MyChallenge,MyTransformer\n",
    "model = MyChallenge().to(device)\n",
    "model_name = 'BaseTransformer'\n",
    "model.load_state_dict(torch.load(f'checkpoints/{model_name}/best.pth'))\n",
    "test_19(model, model_name)\n",
    "Predict(model=model,model_name=model_name,t=1)\n",
    "Predict(model=model,model_name=model_name,t=4)\n",
    "Predict(model=model,model_name=model_name,t=8)\n",
    "Predict(model=model,model_name=model_name,t=12)"
   ],
   "metadata": {
    "collapsed": false,
    "pycharm": {
     "name": "#%%\n"
    }
   }
  },
  {
   "cell_type": "code",
   "execution_count": 4,
   "outputs": [
    {
     "name": "stdout",
     "output_type": "stream",
     "text": [
      "加载数据，总共有 152 个台风， 4539 条台风数据\n",
      "总共生成 42 个序列\n",
      "加载数据，总共有 152 个台风， 4539 条台风数据\n",
      "总共生成 3931 个序列\n",
      "总共生成 3931 个序列\n",
      "{'BaseChallenge-6h': 0.6248667384541925}\n",
      "加载数据，总共有 152 个台风， 4539 条台风数据\n",
      "总共生成 3931 个序列\n",
      "总共生成 3475 个序列\n",
      "{'BaseChallenge-6h': 0.6248667384541925, 'BaseChallenge-24h': 2.0119720794956835}\n",
      "加载数据，总共有 152 个台风， 4539 条台风数据\n",
      "总共生成 3931 个序列\n",
      "总共生成 2882 个序列\n",
      "{'BaseChallenge-6h': 0.6248667384541925, 'BaseChallenge-24h': 2.0119720794956835, 'BaseChallenge-48h': 4.645990635209887}\n",
      "加载数据，总共有 152 个台风， 4539 条台风数据\n",
      "总共生成 3931 个序列\n",
      "总共生成 2333 个序列\n",
      "{'BaseChallenge-6h': 0.6248667384541925, 'BaseChallenge-24h': 2.0119720794956835, 'BaseChallenge-48h': 4.645990635209887, 'BaseChallenge-72h': 7.594463086493933}\n"
     ]
    }
   ],
   "source": [
    "from model import BaseLSTM,MyModel,MyLSTM,BPNetModel,MyChallenge\n",
    "model = MyChallenge().to(device)\n",
    "model_name = 'BaseChallenge'\n",
    "model.load_state_dict(torch.load(f'checkpoints/{model_name}/best.pth'))\n",
    "test_19(model, model_name)\n",
    "Predict(model=model,model_name=model_name,t=1)\n",
    "Predict(model=model,model_name=model_name,t=4)\n",
    "Predict(model=model,model_name=model_name,t=8)\n",
    "Predict(model=model,model_name=model_name,t=12)"
   ],
   "metadata": {
    "collapsed": false,
    "pycharm": {
     "name": "#%%\n"
    }
   }
  },
  {
   "cell_type": "code",
   "execution_count": 8,
   "outputs": [
    {
     "name": "stdout",
     "output_type": "stream",
     "text": [
      "加载数据，总共有 152 个台风， 4539 条台风数据\n",
      "总共生成 42 个序列\n"
     ]
    }
   ],
   "source": [
    "from model import BaseLSTM,MyModel,MyLSTM,BPNetModel\n",
    "model = BPNetModel().to(device)\n",
    "model_name = 'BaseMLP'\n",
    "model.load_state_dict(torch.load(f'checkpoints/{model_name}/best.pth'))\n",
    "test_19(model, model_name)"
   ],
   "metadata": {
    "collapsed": false,
    "pycharm": {
     "name": "#%%\n"
    }
   }
  },
  {
   "cell_type": "code",
   "execution_count": 5,
   "outputs": [
    {
     "name": "stdout",
     "output_type": "stream",
     "text": [
      "加载数据，总共有 152 个台风， 4539 条台风数据\n",
      "总共生成 3931 个序列\n",
      "总共生成 3931 个序列\n",
      "{'BaseMLP-6h': 0.8494742209863915}\n",
      "加载数据，总共有 152 个台风， 4539 条台风数据\n",
      "总共生成 3931 个序列\n",
      "总共生成 3475 个序列\n",
      "{'BaseMLP-6h': 0.8494742209863915, 'BaseMLP-24h': 2.3737057335599894}\n",
      "加载数据，总共有 152 个台风， 4539 条台风数据\n",
      "总共生成 3931 个序列\n",
      "总共生成 2882 个序列\n",
      "{'BaseMLP-6h': 0.8494742209863915, 'BaseMLP-24h': 2.3737057335599894, 'BaseMLP-48h': 5.142441222774898}\n",
      "加载数据，总共有 152 个台风， 4539 条台风数据\n",
      "总共生成 3931 个序列\n",
      "总共生成 2333 个序列\n",
      "{'BaseMLP-6h': 0.8494742209863915, 'BaseMLP-24h': 2.3737057335599894, 'BaseMLP-48h': 5.142441222774898, 'BaseMLP-72h': 8.543561952304104}\n"
     ]
    }
   ],
   "source": [
    "Predict(model=model,model_name=model_name,t=1)\n",
    "Predict(model=model,model_name=model_name,t=4)\n",
    "Predict(model=model,model_name=model_name,t=8)\n",
    "Predict(model=model,model_name=model_name,t=12)"
   ],
   "metadata": {
    "collapsed": false,
    "pycharm": {
     "name": "#%%\n"
    }
   }
  },
  {
   "cell_type": "markdown",
   "source": [],
   "metadata": {
    "collapsed": false,
    "pycharm": {
     "name": "#%% md\n"
    }
   }
  },
  {
   "cell_type": "code",
   "execution_count": 5,
   "outputs": [
    {
     "name": "stdout",
     "output_type": "stream",
     "text": [
      "加载数据，总共有 436 个台风， 12839 条台风数据\n",
      "总共生成 225792 个序列\n"
     ]
    }
   ],
   "source": [
    "traindata = MyData(data_path='./data/TrainData.json', frac=1)"
   ],
   "metadata": {
    "collapsed": false,
    "pycharm": {
     "name": "#%%\n"
    }
   }
  },
  {
   "cell_type": "code",
   "execution_count": 5,
   "outputs": [],
   "source": [],
   "metadata": {
    "collapsed": false,
    "pycharm": {
     "name": "#%%\n"
    }
   }
  },
  {
   "cell_type": "code",
   "execution_count": 9,
   "outputs": [
    {
     "name": "stdout",
     "output_type": "stream",
     "text": [
      "加载数据，总共有 152 个台风， 4539 条台风数据\n",
      "总共生成 42 个序列\n",
      "加载数据，总共有 152 个台风， 4539 条台风数据\n",
      "总共生成 3931 个序列\n",
      "总共生成 3931 个序列\n",
      "{'2LayerBidirLSTM-6h': 0.657032963493768}\n",
      "加载数据，总共有 152 个台风， 4539 条台风数据\n",
      "总共生成 3931 个序列\n",
      "总共生成 3475 个序列\n",
      "{'2LayerBidirLSTM-6h': 0.657032963493768, '2LayerBidirLSTM-24h': 2.555664242575094}\n",
      "加载数据，总共有 152 个台风， 4539 条台风数据\n",
      "总共生成 3931 个序列\n",
      "总共生成 2882 个序列\n",
      "{'2LayerBidirLSTM-6h': 0.657032963493768, '2LayerBidirLSTM-24h': 2.555664242575094, '2LayerBidirLSTM-48h': 10.410849471434586}\n",
      "加载数据，总共有 152 个台风， 4539 条台风数据\n",
      "总共生成 3931 个序列\n",
      "总共生成 2333 个序列\n",
      "{'2LayerBidirLSTM-6h': 0.657032963493768, '2LayerBidirLSTM-24h': 2.555664242575094, '2LayerBidirLSTM-48h': 10.410849471434586, '2LayerBidirLSTM-72h': 22.467086413380407}\n"
     ]
    }
   ],
   "source": [
    "from model import BaseLSTM,MyModel,MyLSTM,BPNetModel,MyChallenge\n",
    "model = MyLSTM().to(device)\n",
    "model_name = '2LayerBidirLSTM'\n",
    "model.load_state_dict(torch.load(f'checkpoints/{model_name}/best.pth'))\n",
    "test_19(model, model_name)\n",
    "Predict(model=model,model_name=model_name,t=1)\n",
    "Predict(model=model,model_name=model_name,t=4)\n",
    "Predict(model=model,model_name=model_name,t=8)\n",
    "Predict(model=model,model_name=model_name,t=12)"
   ],
   "metadata": {
    "collapsed": false,
    "pycharm": {
     "name": "#%%\n"
    }
   }
  },
  {
   "cell_type": "code",
   "execution_count": 10,
   "outputs": [
    {
     "name": "stdout",
     "output_type": "stream",
     "text": [
      "加载数据，总共有 152 个台风， 4539 条台风数据\n",
      "总共生成 42 个序列\n",
      "加载数据，总共有 152 个台风， 4539 条台风数据\n",
      "总共生成 3931 个序列\n",
      "总共生成 3931 个序列\n",
      "{'2LayerBidirLSTM-6h': 0.657032963493768, '2LayerBidirLSTM-24h': 2.555664242575094, '2LayerBidirLSTM-48h': 10.410849471434586, '2LayerBidirLSTM-72h': 22.467086413380407, 'BidirLSTM-6h': 0.6227254850720666}\n",
      "加载数据，总共有 152 个台风， 4539 条台风数据\n",
      "总共生成 3931 个序列\n",
      "总共生成 3475 个序列\n",
      "{'2LayerBidirLSTM-6h': 0.657032963493768, '2LayerBidirLSTM-24h': 2.555664242575094, '2LayerBidirLSTM-48h': 10.410849471434586, '2LayerBidirLSTM-72h': 22.467086413380407, 'BidirLSTM-6h': 0.6227254850720666, 'BidirLSTM-24h': 2.0193339704721387}\n",
      "加载数据，总共有 152 个台风， 4539 条台风数据\n",
      "总共生成 3931 个序列\n",
      "总共生成 2882 个序列\n",
      "{'2LayerBidirLSTM-6h': 0.657032963493768, '2LayerBidirLSTM-24h': 2.555664242575094, '2LayerBidirLSTM-48h': 10.410849471434586, '2LayerBidirLSTM-72h': 22.467086413380407, 'BidirLSTM-6h': 0.6227254850720666, 'BidirLSTM-24h': 2.0193339704721387, 'BidirLSTM-48h': 4.578090537003167}\n",
      "加载数据，总共有 152 个台风， 4539 条台风数据\n",
      "总共生成 3931 个序列\n",
      "总共生成 2333 个序列\n",
      "{'2LayerBidirLSTM-6h': 0.657032963493768, '2LayerBidirLSTM-24h': 2.555664242575094, '2LayerBidirLSTM-48h': 10.410849471434586, '2LayerBidirLSTM-72h': 22.467086413380407, 'BidirLSTM-6h': 0.6227254850720666, 'BidirLSTM-24h': 2.0193339704721387, 'BidirLSTM-48h': 4.578090537003167, 'BidirLSTM-72h': 7.3484993442082525}\n"
     ]
    }
   ],
   "source": [
    "from model import BaseLSTM,MyModel,MyLSTM,BPNetModel,MyChallenge,MyTransformer,MyBidirLSTM\n",
    "model = MyBidirLSTM().to(device)\n",
    "model_name = 'BidirLSTM'\n",
    "model.load_state_dict(torch.load(f'checkpoints/{model_name}/best.pth'))\n",
    "test_19(model, model_name)\n",
    "Predict(model=model,model_name=model_name,t=1)\n",
    "Predict(model=model,model_name=model_name,t=4)\n",
    "Predict(model=model,model_name=model_name,t=8)\n",
    "Predict(model=model,model_name=model_name,t=12)"
   ],
   "metadata": {
    "collapsed": false,
    "pycharm": {
     "name": "#%%\n"
    }
   }
  },
  {
   "cell_type": "code",
   "execution_count": 11,
   "outputs": [
    {
     "name": "stdout",
     "output_type": "stream",
     "text": [
      "加载数据，总共有 152 个台风， 4539 条台风数据\n",
      "总共生成 42 个序列\n",
      "加载数据，总共有 152 个台风， 4539 条台风数据\n",
      "总共生成 3931 个序列\n",
      "总共生成 3931 个序列\n",
      "{'2LayerBidirLSTM-6h': 0.657032963493768, '2LayerBidirLSTM-24h': 2.555664242575094, '2LayerBidirLSTM-48h': 10.410849471434586, '2LayerBidirLSTM-72h': 22.467086413380407, 'BidirLSTM-6h': 0.6227254850720666, 'BidirLSTM-24h': 2.0193339704721387, 'BidirLSTM-48h': 4.578090537003167, 'BidirLSTM-72h': 7.3484993442082525, '2LayerLSTM-6h': 0.5703176626571449}\n",
      "加载数据，总共有 152 个台风， 4539 条台风数据\n",
      "总共生成 3931 个序列\n",
      "总共生成 3475 个序列\n",
      "{'2LayerBidirLSTM-6h': 0.657032963493768, '2LayerBidirLSTM-24h': 2.555664242575094, '2LayerBidirLSTM-48h': 10.410849471434586, '2LayerBidirLSTM-72h': 22.467086413380407, 'BidirLSTM-6h': 0.6227254850720666, 'BidirLSTM-24h': 2.0193339704721387, 'BidirLSTM-48h': 4.578090537003167, 'BidirLSTM-72h': 7.3484993442082525, '2LayerLSTM-6h': 0.5703176626571449, '2LayerLSTM-24h': 1.9101852364611167}\n",
      "加载数据，总共有 152 个台风， 4539 条台风数据\n",
      "总共生成 3931 个序列\n",
      "总共生成 2882 个序列\n",
      "{'2LayerBidirLSTM-6h': 0.657032963493768, '2LayerBidirLSTM-24h': 2.555664242575094, '2LayerBidirLSTM-48h': 10.410849471434586, '2LayerBidirLSTM-72h': 22.467086413380407, 'BidirLSTM-6h': 0.6227254850720666, 'BidirLSTM-24h': 2.0193339704721387, 'BidirLSTM-48h': 4.578090537003167, 'BidirLSTM-72h': 7.3484993442082525, '2LayerLSTM-6h': 0.5703176626571449, '2LayerLSTM-24h': 1.9101852364611167, '2LayerLSTM-48h': 4.426209158262461}\n",
      "加载数据，总共有 152 个台风， 4539 条台风数据\n",
      "总共生成 3931 个序列\n",
      "总共生成 2333 个序列\n",
      "{'2LayerBidirLSTM-6h': 0.657032963493768, '2LayerBidirLSTM-24h': 2.555664242575094, '2LayerBidirLSTM-48h': 10.410849471434586, '2LayerBidirLSTM-72h': 22.467086413380407, 'BidirLSTM-6h': 0.6227254850720666, 'BidirLSTM-24h': 2.0193339704721387, 'BidirLSTM-48h': 4.578090537003167, 'BidirLSTM-72h': 7.3484993442082525, '2LayerLSTM-6h': 0.5703176626571449, '2LayerLSTM-24h': 1.9101852364611167, '2LayerLSTM-48h': 4.426209158262461, '2LayerLSTM-72h': 7.385926161128278}\n"
     ]
    }
   ],
   "source": [
    "from model import BaseLSTM,MyModel,MyLSTM,BPNetModel,MyChallenge,MyTransformer,MyL2Layer\n",
    "model = MyL2Layer().to(device)\n",
    "model_name = '2LayerLSTM'\n",
    "model.load_state_dict(torch.load(f'checkpoints/{model_name}/best.pth'))\n",
    "test_19(model, model_name)\n",
    "Predict(model=model,model_name=model_name,t=1)\n",
    "Predict(model=model,model_name=model_name,t=4)\n",
    "Predict(model=model,model_name=model_name,t=8)\n",
    "Predict(model=model,model_name=model_name,t=12)"
   ],
   "metadata": {
    "collapsed": false,
    "pycharm": {
     "name": "#%%\n"
    }
   }
  },
  {
   "cell_type": "code",
   "execution_count": 4,
   "id": "1aae7670",
   "metadata": {
    "pycharm": {
     "name": "#%%\n"
    }
   },
   "outputs": [
    {
     "name": "stdout",
     "output_type": "stream",
     "text": [
      "加载数据，总共有 152 个台风， 4539 条台风数据\n",
      "总共生成 42 个序列\n",
      "加载数据，总共有 152 个台风， 4539 条台风数据\n",
      "总共生成 3931 个序列\n",
      "总共生成 3931 个序列\n",
      "{'BaseTransformer-6h': 9.272265216044849}\n",
      "加载数据，总共有 152 个台风， 4539 条台风数据\n",
      "总共生成 3931 个序列\n",
      "总共生成 3475 个序列\n",
      "{'BaseTransformer-6h': 9.272265216044849, 'BaseTransformer-24h': 9.53510725410233}\n",
      "加载数据，总共有 152 个台风， 4539 条台风数据\n",
      "总共生成 3931 个序列\n",
      "总共生成 2882 个序列\n",
      "{'BaseTransformer-6h': 9.272265216044849, 'BaseTransformer-24h': 9.53510725410233, 'BaseTransformer-48h': 10.476215067267203}\n",
      "加载数据，总共有 152 个台风， 4539 条台风数据\n",
      "总共生成 3931 个序列\n",
      "总共生成 2333 个序列\n",
      "{'BaseTransformer-6h': 9.272265216044849, 'BaseTransformer-24h': 9.53510725410233, 'BaseTransformer-48h': 10.476215067267203, 'BaseTransformer-72h': 11.743448168884523}\n"
     ]
    }
   ],
   "source": [
    "from model import BaseLSTM,MyModel,MyLSTM,BPNetModel,MyChallenge,MyTransformer,MyL2Layer\n",
    "model = MyTransformer().to(device)\n",
    "model_name = 'BaseTransformer'\n",
    "model.load_state_dict(torch.load(f'checkpoints/{model_name}/best.pth'))\n",
    "test_19(model, model_name)\n",
    "Predict(model=model,model_name=model_name,t=1)\n",
    "Predict(model=model,model_name=model_name,t=4)\n",
    "Predict(model=model,model_name=model_name,t=8)\n",
    "Predict(model=model,model_name=model_name,t=12)"
   ]
  },
  {
   "cell_type": "code",
   "execution_count": 5,
   "outputs": [],
   "source": [],
   "metadata": {
    "collapsed": false,
    "pycharm": {
     "name": "#%%\n"
    }
   }
  },
  {
   "cell_type": "code",
   "execution_count": 4,
   "outputs": [],
   "source": [],
   "metadata": {
    "collapsed": false,
    "pycharm": {
     "name": "#%%\n"
    }
   }
  },
  {
   "cell_type": "code",
   "execution_count": 4,
   "outputs": [],
   "source": [],
   "metadata": {
    "collapsed": false,
    "pycharm": {
     "name": "#%%\n"
    }
   }
  },
  {
   "cell_type": "code",
   "execution_count": 4,
   "outputs": [],
   "source": [],
   "metadata": {
    "collapsed": false,
    "pycharm": {
     "name": "#%%\n"
    }
   }
  },
  {
   "cell_type": "code",
   "execution_count": 4,
   "outputs": [],
   "source": [],
   "metadata": {
    "collapsed": false,
    "pycharm": {
     "name": "#%%\n"
    }
   }
  },
  {
   "cell_type": "code",
   "execution_count": 28,
   "outputs": [
    {
     "data": {
      "text/plain": "array([[178,   2,   5],\n       [402,  32,   5],\n       [ 17,  23,   5],\n       ...,\n       [330,   8,   5],\n       [ 64,  39,   5],\n       [406,   8,   5]])"
     },
     "execution_count": 28,
     "metadata": {},
     "output_type": "execute_result"
    }
   ],
   "source": [
    "a"
   ],
   "metadata": {
    "collapsed": false,
    "pycharm": {
     "name": "#%%\n"
    }
   }
  },
  {
   "cell_type": "code",
   "execution_count": 78,
   "outputs": [],
   "source": [],
   "metadata": {
    "collapsed": false,
    "pycharm": {
     "name": "#%%\n"
    }
   }
  },
  {
   "cell_type": "code",
   "execution_count": 78,
   "outputs": [],
   "source": [],
   "metadata": {
    "collapsed": false,
    "pycharm": {
     "name": "#%%\n"
    }
   }
  },
  {
   "cell_type": "code",
   "execution_count": null,
   "outputs": [],
   "source": [],
   "metadata": {
    "collapsed": false,
    "pycharm": {
     "name": "#%%\n"
    }
   }
  }
 ],
 "metadata": {
  "kernelspec": {
   "display_name": "main",
   "language": "python",
   "name": "main"
  },
  "language_info": {
   "codemirror_mode": {
    "name": "ipython",
    "version": 3
   },
   "file_extension": ".py",
   "mimetype": "text/x-python",
   "name": "python",
   "nbconvert_exporter": "python",
   "pygments_lexer": "ipython3",
   "version": "3.9.16"
  }
 },
 "nbformat": 4,
 "nbformat_minor": 5
}