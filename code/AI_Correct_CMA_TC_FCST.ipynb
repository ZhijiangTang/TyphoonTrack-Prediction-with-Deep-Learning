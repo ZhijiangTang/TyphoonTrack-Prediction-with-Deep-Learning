{
 "cells": [
  {
   "cell_type": "code",
   "execution_count": 109,
   "id": "e10c9a27-820c-4751-93f8-dfe2ccc590a7",
   "metadata": {
    "pycharm": {
     "name": "#%%\n"
    }
   },
   "outputs": [],
   "source": [
    "import pandas as pd\n",
    "import datetime\n",
    "import numpy as np\n",
    "from sklearn.model_selection import train_test_split\n",
    "from sklearn.metrics import mean_squared_error\n",
    "from sklearn.ensemble import RandomForestRegressor"
   ]
  },
  {
   "cell_type": "markdown",
   "id": "b6be80b7-43b2-471e-9092-b6e68a358ad5",
   "metadata": {
    "pycharm": {
     "name": "#%% md\n"
    }
   },
   "source": [
    "# 数据读入和预处理"
   ]
  },
  {
   "cell_type": "code",
   "execution_count": 110,
   "id": "fd17b776-f6e4-4e3b-b24e-c9583d2e4f5f",
   "metadata": {
    "pycharm": {
     "name": "#%%\n"
    }
   },
   "outputs": [],
   "source": [
    "list_sheet = ['2015','2016','2017','2018','2019','2020','2021']\n",
    "list_df = []\n",
    "for i in range(len(list_sheet)):\n",
    "    i_df = pd.read_excel('cma_tc_forecast_analysis_2015-2021.xlsx',sheet_name=list_sheet[i])\n",
    "    list_df.append(i_df)\n",
    "df  = pd.concat(list_df)\n",
    "df.index =  range(len(df))"
   ]
  },
  {
   "cell_type": "code",
   "execution_count": 112,
   "id": "6817c1a0-22de-4da6-8b78-a2598acfb8bf",
   "metadata": {
    "pycharm": {
     "name": "#%%\n"
    }
   },
   "outputs": [],
   "source": [
    "#构造新的时间特征\n",
    "hour  = pd.to_datetime(df['dateUTC'], format='%Y%m%d%H%M').dt.hour\n",
    "month = pd.to_datetime(df['dateUTC'], format='%Y%m%d%H%M').dt.month\n",
    "\n",
    "df.loc[:,'hour']  = hour.values\n",
    "df.loc[:,'month'] = month.values"
   ]
  },
  {
   "cell_type": "code",
   "execution_count": 115,
   "id": "fb754961-2462-405f-8061-99242ad2c8b6",
   "metadata": {
    "pycharm": {
     "name": "#%%\n"
    }
   },
   "outputs": [],
   "source": [
    "X = df[['forecast_hour', 'lonTC_f', 'latTC_f', 'mslp_f', 'vmax_f','hour', 'month' ]]\n",
    "Y = df[['lonTC_a', 'latTC_a', 'mslp_a', 'vmax_a',]]"
   ]
  },
  {
   "cell_type": "code",
   "execution_count": 116,
   "id": "153256ba-ef19-45fb-b2ad-d95adbe7e73e",
   "metadata": {
    "pycharm": {
     "name": "#%%\n"
    }
   },
   "outputs": [],
   "source": [
    "X_train, X_test, Y_train, Y_test = train_test_split(X, Y, test_size=0.25) #分离训练集和测试集\n",
    "\n",
    "#测试集的路径，中心气压。最大风速，用于结果对比\n",
    "Y_fcst  = X_test[['lonTC_f', 'latTC_f', 'mslp_f', 'vmax_f']]\n",
    "Y_anal  = Y_test\n",
    "Y_fcst.index = range(len(Y_fcst))\n",
    "Y_anal.index = range(len(Y_anal))"
   ]
  },
  {
   "cell_type": "markdown",
   "id": "871e4b5d-856c-4d46-8a22-6dd19898be7a",
   "metadata": {
    "pycharm": {
     "name": "#%% md\n"
    }
   },
   "source": [
    "# 误差计算函数"
   ]
  },
  {
   "cell_type": "code",
   "execution_count": 117,
   "id": "eaf7ce09-0994-47b6-b610-d7ece901d9f0",
   "metadata": {
    "pycharm": {
     "name": "#%%\n"
    }
   },
   "outputs": [],
   "source": [
    "#半正矢公式计算球面距离（用于计算台风路径误差）\n",
    "def haversine_dist(lat1,lng1,lat2,lng2):\n",
    "  lat1, lng1, lat2, lng2 = map(np.radians, (lat1, lng1, lat2, lng2))\n",
    "  radius = 6371  # Earth's radius taken from google\n",
    "  lat = lat2 - lat1\n",
    "  lng = lng2 - lng1\n",
    "  d = np.sin(lat/2) ** 2 + np.cos(lat1) * np.cos(lat2) * np.sin(lng/2) ** 2\n",
    "  h = 2 * radius * np.arcsin(np.sqrt(d))\n",
    "  return h"
   ]
  },
  {
   "cell_type": "code",
   "execution_count": 118,
   "id": "f9e0c280-27f8-4f6b-9aa2-fb9f0397a5c6",
   "metadata": {
    "pycharm": {
     "name": "#%%\n"
    }
   },
   "outputs": [],
   "source": [
    "#传入Pandas dataframe数据，计算误差\n",
    "def calc_rmse(Y_pred, Y_fcst, Y_anal):\n",
    "    # pred : AI订正后的数据\n",
    "    # fcst : CMA业务预报数据\n",
    "    # anal : CMA业务实况分析\n",
    "    \n",
    "    #计算路径误差\n",
    "    ERR_dist_pred = haversine_dist(Y_pred['latTC_p'], Y_pred['lonTC_p'], Y_anal['latTC_a'], Y_anal['lonTC_a'])\n",
    "    ERR_dist_fcst = haversine_dist(Y_fcst['latTC_f'], Y_fcst['lonTC_f'], Y_anal['latTC_a'], Y_anal['lonTC_a'])\n",
    "    MSE_dist_pred = (ERR_dist_pred.abs()**2).mean()\n",
    "    MSE_dist_fcst = (ERR_dist_fcst.abs()**2).mean()\n",
    "    RMSE_dist_pred = np.sqrt(MSE_dist_pred)\n",
    "    RMSE_dist_fcst = np.sqrt(MSE_dist_fcst)\n",
    "    improve_track  = ( RMSE_dist_fcst-RMSE_dist_pred)/ RMSE_dist_fcst*100 # %\n",
    "   \n",
    "    \n",
    "    #计算中心气压误差\n",
    "    MSE_mslp_pred  = mean_squared_error(Y_pred['mslp_p'], Y_anal['mslp_a'])\n",
    "    MSE_mslp_fcst  = mean_squared_error(Y_fcst['mslp_f'], Y_anal['mslp_a'])\n",
    "    RMSE_mslp_pred = np.sqrt(MSE_mslp_pred)\n",
    "    RMSE_mslp_fcst = np.sqrt(MSE_mslp_fcst)\n",
    "    improve_mslp   = ( RMSE_mslp_fcst-RMSE_mslp_pred)/ RMSE_mslp_fcst*100 # %\n",
    "    \n",
    "    #计算最大风速误差\n",
    "    MSE_vmax_pred  = mean_squared_error(Y_pred['vmax_p'], Y_anal['vmax_a'])\n",
    "    MSE_vmax_fcst  = mean_squared_error(Y_fcst['vmax_f'], Y_anal['vmax_a'])\n",
    "    RMSE_vmax_pred = np.sqrt(MSE_vmax_pred)\n",
    "    RMSE_vmax_fcst = np.sqrt(MSE_vmax_fcst)\n",
    "    improve_vmax   = ( RMSE_vmax_fcst-RMSE_vmax_pred)/ RMSE_vmax_fcst*100 # %\n",
    "    \n",
    "    print(\"!!!!!-------台风路径-------!!!!!\")\n",
    "    print(\"Track fcst RMSE: \", '%.2f'%RMSE_dist_fcst, 'km')\n",
    "    print(\"Track pred RMSE: \", '%.2f'%RMSE_dist_pred, 'km')\n",
    "    print(\"Track improve: \",'%.2f'%improve_track, '%' )\n",
    "    print(\" \")\n",
    "    \n",
    "    print(\"!!!!!-------中心气压-------!!!!!\")\n",
    "    print(\"MSLP fcst RMSE: \", '%.2f'%RMSE_mslp_fcst, 'hPa')\n",
    "    print(\"MSLP pred RMSE: \", '%.2f'%RMSE_mslp_pred, 'hPa')\n",
    "    print(\"MSLP improve: \",'%.2f'%improve_mslp, '%' )\n",
    "    print(\" \")\n",
    "    \n",
    "    print(\"!!!!!-------最大风速-------!!!!!\")\n",
    "    print(\"Vmax fcst RMSE: \", '%.2f'%RMSE_vmax_fcst, 'm/s')\n",
    "    print(\"Vmax pred RMSE: \", '%.2f'%RMSE_vmax_pred, 'm/s')\n",
    "    print(\"Vmax improve: \",'%.2f'%improve_vmax, '%' )\n",
    "    print(\" \")\n",
    "    \n",
    "    return None"
   ]
  },
  {
   "cell_type": "markdown",
   "id": "b17fe3d4-920a-4287-9af6-48c96ff96d48",
   "metadata": {
    "pycharm": {
     "name": "#%% md\n"
    }
   },
   "source": [
    "# 随机森林订正\n",
    "袋外样本oob (Out of bag)，检测模型的泛化能力，和交叉验证类似。可以理解成从train datasets 中分出来的validation datasets。"
   ]
  },
  {
   "cell_type": "code",
   "execution_count": 119,
   "id": "394b0efb-fa7a-41ad-8639-1d0d0c2692e9",
   "metadata": {
    "pycharm": {
     "name": "#%%\n"
    }
   },
   "outputs": [],
   "source": [
    "def RFModel_predict(X_train, Y_train):\n",
    "    rfr = RandomForestRegressor(\n",
    "          n_estimators = 100,\n",
    "          random_state = 0,\n",
    "          n_jobs = -1,\n",
    "          oob_score = True\n",
    "    )\n",
    "    rfr = rfr.fit(X_train, Y_train)\n",
    "    print('oob_score: ', rfr.oob_score_)\n",
    "    importance = pd.DataFrame.from_dict(\n",
    "      {name: value for (name, value) in zip(X_train.columns, rfr.feature_importances_)},\n",
    "      orient='index', columns=['importance'])\n",
    "\n",
    "    importance.sort_values('importance', ascending=False, inplace=True)\n",
    "    print(importance)\n",
    "    return rfr, importance\n"
   ]
  },
  {
   "cell_type": "code",
   "execution_count": 120,
   "id": "885f0260-a635-4cdd-a8d4-974d217fc18a",
   "metadata": {
    "pycharm": {
     "name": "#%%\n"
    }
   },
   "outputs": [
    {
     "name": "stdout",
     "output_type": "stream",
     "text": [
      "oob_score:  0.9683824558690758\n",
      "               importance\n",
      "vmax_f           0.529605\n",
      "lonTC_f          0.220978\n",
      "latTC_f          0.124504\n",
      "mslp_f           0.068949\n",
      "month            0.032334\n",
      "forecast_hour    0.012149\n",
      "hour             0.011481\n"
     ]
    }
   ],
   "source": [
    "rfr, importance = RFModel_predict(X_train, Y_train)\n",
    "Y_pred =  rfr.predict(X_test)"
   ]
  },
  {
   "cell_type": "code",
   "execution_count": 121,
   "id": "a5d709f5-0db2-434d-b1bd-c843a68729c8",
   "metadata": {
    "pycharm": {
     "name": "#%%\n"
    }
   },
   "outputs": [],
   "source": [
    "# #numpy转为dataframe\n",
    "Y_pred = pd.DataFrame(Y_pred,columns=['lonTC_p', 'latTC_p', 'mslp_p', 'vmax_p'])"
   ]
  },
  {
   "cell_type": "markdown",
   "id": "ecbc1585-fe05-4eae-8934-c4b2d6efcde0",
   "metadata": {
    "pycharm": {
     "name": "#%% md\n"
    }
   },
   "source": [
    "# 误差计算"
   ]
  },
  {
   "cell_type": "code",
   "execution_count": 122,
   "id": "9066c293-a20b-4283-920d-ea50b5e5d5b4",
   "metadata": {
    "pycharm": {
     "name": "#%%\n"
    }
   },
   "outputs": [
    {
     "name": "stdout",
     "output_type": "stream",
     "text": [
      "!!!!!-------台风路径-------!!!!!\n",
      "Track fcst RMSE:  135.79 km\n",
      "Track pred RMSE:  83.59 km\n",
      "Track improve:  38.44 %\n",
      " \n",
      "!!!!!-------中心气压-------!!!!!\n",
      "MSLP fcst RMSE:  11.02 hPa\n",
      "MSLP pred RMSE:  5.40 hPa\n",
      "MSLP improve:  51.00 %\n",
      " \n",
      "!!!!!-------最大风速-------!!!!!\n",
      "Vmax fcst RMSE:  5.86 m/s\n",
      "Vmax pred RMSE:  2.92 m/s\n",
      "Vmax improve:  50.16 %\n",
      " \n"
     ]
    }
   ],
   "source": [
    "#计算误差\n",
    "calc_rmse(Y_pred, Y_fcst, Y_anal)"
   ]
  },
  {
   "cell_type": "markdown",
   "id": "ca3dad24-3ab6-4118-8f16-19802c7a648b",
   "metadata": {
    "pycharm": {
     "name": "#%% md\n"
    }
   },
   "source": [
    "# 2106号台风台风“烟花”的订正结果"
   ]
  },
  {
   "cell_type": "code",
   "execution_count": 153,
   "id": "eb7c4549-2e31-4b71-b455-56b3a9e0190a",
   "metadata": {
    "pycharm": {
     "name": "#%%\n"
    }
   },
   "outputs": [],
   "source": [
    "df_INFA = df[df.tc_num == 2106]  #筛选2106号台风数据\n",
    "\n",
    "###构造X输入\n",
    "hour  = pd.to_datetime(df_INFA['dateUTC'], format='%Y%m%d%H%M').dt.hour\n",
    "month = pd.to_datetime(df_INFA['dateUTC'], format='%Y%m%d%H%M').dt.month\n",
    "\n",
    "df_INFA.loc[:,'hour']  = hour.values\n",
    "df_INFA.loc[:,'month'] = month.values\n",
    "\n",
    "X_INFA = df_INFA[['forecast_hour', 'lonTC_f', 'latTC_f', 'mslp_f', 'vmax_f','hour', 'month' ]]\n",
    "###模型预测\n",
    "Y_pred =  rfr.predict(X_INFA)  \n",
    "# #numpy转为dataframe\n",
    "Y_pred = pd.DataFrame(Y_pred,columns=['lonTC_p', 'latTC_p', 'mslp_p', 'vmax_p'])\n"
   ]
  },
  {
   "cell_type": "code",
   "execution_count": 154,
   "id": "0fb32c03-07f2-4d9c-8cd7-5be64f62e8bf",
   "metadata": {
    "pycharm": {
     "name": "#%%\n"
    }
   },
   "outputs": [],
   "source": [
    "#预报数据和实况数据，用于计算误差\n",
    "Y_fcst  = df_INFA[['lonTC_f', 'latTC_f', 'mslp_f', 'vmax_f']]\n",
    "Y_anal  = df_INFA[['lonTC_a', 'latTC_a', 'mslp_a', 'vmax_a',]]\n",
    "Y_fcst.index = range(len(Y_fcst))\n",
    "Y_anal.index = range(len(Y_anal))"
   ]
  },
  {
   "cell_type": "code",
   "execution_count": 212,
   "id": "b55dea9f-2710-41ba-90eb-da28af924d2a",
   "metadata": {
    "pycharm": {
     "name": "#%%\n"
    }
   },
   "outputs": [
    {
     "name": "stdout",
     "output_type": "stream",
     "text": [
      "!!!!!-------台风路径-------!!!!!\n",
      "Track fcst RMSE:  107.56 km\n",
      "Track pred RMSE:  19.89 km\n",
      "Track improve:  81.50 %\n",
      " \n",
      "!!!!!-------中心气压-------!!!!!\n",
      "MSLP fcst RMSE:  9.62 hPa\n",
      "MSLP pred RMSE:  1.18 hPa\n",
      "MSLP improve:  87.75 %\n",
      " \n",
      "!!!!!-------最大风速-------!!!!!\n",
      "Vmax fcst RMSE:  4.48 m/s\n",
      "Vmax pred RMSE:  0.71 m/s\n",
      "Vmax improve:  84.05 %\n",
      " \n"
     ]
    }
   ],
   "source": [
    "#计算误差\n",
    "calc_rmse(Y_pred, Y_fcst, Y_anal)"
   ]
  }
 ],
 "metadata": {
  "kernelspec": {
   "display_name": "Python 3 (ipykernel)",
   "language": "python",
   "name": "python3"
  },
  "language_info": {
   "codemirror_mode": {
    "name": "ipython",
    "version": 3
   },
   "file_extension": ".py",
   "mimetype": "text/x-python",
   "name": "python",
   "nbconvert_exporter": "python",
   "pygments_lexer": "ipython3",
   "version": "3.7.3"
  }
 },
 "nbformat": 4,
 "nbformat_minor": 5
}