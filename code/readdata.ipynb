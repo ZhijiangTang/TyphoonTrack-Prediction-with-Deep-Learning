{
 "cells": [
  {
   "cell_type": "code",
   "execution_count": 2,
   "id": "7a675397",
   "metadata": {
    "pycharm": {
     "name": "#%%\n"
    }
   },
   "outputs": [],
   "source": [
    "import numpy as np\n",
    "import json"
   ]
  },
  {
   "cell_type": "code",
   "execution_count": 74,
   "id": "6ffefadb",
   "metadata": {
    "pycharm": {
     "name": "#%%\n"
    }
   },
   "outputs": [],
   "source": [
    "train = []\n",
    "typhoon_train_information = []\n",
    "for year in  range(2000,2016):\n",
    "    with open(f'data./train/CH{year}BST.txt', 'r') as f:\n",
    "        lines = f.readlines()\n",
    "#         print(lines)\n",
    "        start = 0\n",
    "        \n",
    "        while start < len(lines):\n",
    "            typhoon = lines[start]\n",
    "            sample = []\n",
    "            # 第一行记录国际编号，路径数据记录的行数，我国对热带气旋的编号，\n",
    "            # 热带气旋终结记录，每行路径间隔小时数，热带气旋的英文名称，数据集形成的日期\n",
    "            typhoon_train_information.append([int(typhoon[5:10]),int(typhoon[10:15]),int(typhoon[20:25]),\n",
    "                           int(typhoon[26]),int(typhoon[28]),str.lstrip(str(typhoon[30:51])),int()])\n",
    "            # 记录台风移动数据：时间，纬度，经度，中心最低气压，2分钟平均风速，状态\n",
    "            for i in range(1,int(typhoon[10:15])+1):\n",
    "                sample.append([int(lines[i+start][:10]), int(lines[i+start][11]), int(lines[i+start][13:16]),\n",
    "                              int(lines[i+start][17:21]), int(lines[i+start][22:26]), int(lines[i+start][-3:]),-1])\n",
    "            sample[-1][-1] = int(typhoon[26])\n",
    "            train.append(sample)\n",
    "            start += int(typhoon[10:15])+1"
   ]
  },
  {
   "cell_type": "code",
   "execution_count": 75,
   "id": "f9970097",
   "metadata": {
    "pycharm": {
     "name": "#%%\n"
    }
   },
   "outputs": [
    {
     "data": {
      "text/plain": "436"
     },
     "execution_count": 75,
     "metadata": {},
     "output_type": "execute_result"
    }
   ],
   "source": [
    "with open('./data/TrainData.json','w') as f:\n",
    "    json.dump(train, f)\n",
    "with open('./data/TrainDataInformation.json','w') as f:\n",
    "    json.dump(typhoon_train_information, f)\n",
    "\n",
    "len(train)"
   ]
  },
  {
   "cell_type": "code",
   "execution_count": 76,
   "id": "6631b099",
   "metadata": {
    "pycharm": {
     "name": "#%%\n"
    }
   },
   "outputs": [],
   "source": [
    "test = []\n",
    "typhoon_test_information = []\n",
    "for year in  range(2016,2021):\n",
    "    with open(f'data./test/CH{year}BST.txt', 'r') as f:\n",
    "        lines = f.readlines()\n",
    "#         print(lines)\n",
    "        start = 0\n",
    "        \n",
    "        while start < len(lines):\n",
    "            typhoon = lines[start]\n",
    "            sample = []\n",
    "            # 第一行记录国际编号，路径数据记录的行数，我国对热带气旋的编号，\n",
    "            # 热带气旋终结记录，每行路径间隔小时数，热带气旋的英文名称，数据集形成的日期\n",
    "            typhoon_test_information.append([int(typhoon[5:10]),int(typhoon[10:15]),int(typhoon[20:25]),\n",
    "                           int(typhoon[26]),int(typhoon[28]),str.lstrip(str(typhoon[30:51])),int()])\n",
    "            # 记录台风移动数据：时间，纬度，经度，中心最低气压，2分钟平均风速，状态\n",
    "            for i in range(1,int(typhoon[10:15])+1):\n",
    "                sample.append([int(lines[i+start][:10]), int(lines[i+start][11]), int(lines[i+start][13:16]),\n",
    "                              int(lines[i+start][17:21]), int(lines[i+start][22:26]), int(lines[i+start][-3:]),-1])\n",
    "            sample[-1][-1] = int(typhoon[26])\n",
    "            test.append(sample)\n",
    "            start += int(typhoon[10:15]) + 1"
   ]
  },
  {
   "cell_type": "code",
   "execution_count": 77,
   "outputs": [
    {
     "data": {
      "text/plain": "152"
     },
     "execution_count": 77,
     "metadata": {},
     "output_type": "execute_result"
    }
   ],
   "source": [
    "with open('./data/TestData.json','w') as f:\n",
    "    json.dump(test, f)\n",
    "with open('./data/TestDataInformation.json','w') as f:\n",
    "    json.dump(typhoon_test_information, f)\n",
    "len(test)"
   ],
   "metadata": {
    "collapsed": false,
    "pycharm": {
     "name": "#%%\n"
    }
   }
  },
  {
   "cell_type": "code",
   "execution_count": 78,
   "outputs": [],
   "source": [
    "import random\n",
    "from random import sample\n",
    "\n",
    "random.seed(10086)\n",
    "val = sample(test, 20)\n",
    "random.seed(10086)\n",
    "typhoon_val_information = sample(typhoon_test_information, 20)"
   ],
   "metadata": {
    "collapsed": false,
    "pycharm": {
     "name": "#%%\n"
    }
   }
  },
  {
   "cell_type": "code",
   "execution_count": 80,
   "id": "7a4ed0a2",
   "metadata": {
    "pycharm": {
     "name": "#%%\n"
    }
   },
   "outputs": [
    {
     "data": {
      "text/plain": "20"
     },
     "execution_count": 80,
     "metadata": {},
     "output_type": "execute_result"
    }
   ],
   "source": [
    "with open('./data/ValData.json','w') as f:\n",
    "    json.dump(val, f)\n",
    "with open('./data/ValDataInformation.json','w') as f:\n",
    "    json.dump(typhoon_val_information, f)\n",
    "\n",
    "len(val)"
   ]
  },
  {
   "cell_type": "code",
   "execution_count": 18,
   "id": "9799e62e",
   "metadata": {
    "pycharm": {
     "name": "#%%\n"
    }
   },
   "outputs": [
    {
     "data": {
      "text/plain": "[[0, 9, 0, 0, 6, '(nameless)           ', 0],\n [0, 31, 1601, 0, 6, 'NEPARTAK             ', 0],\n [0, 10, 0, 0, 6, '(nameless)           ', 0],\n [0, 15, 1602, 0, 6, 'LUPIT                ', 0],\n [0, 12, 1603, 0, 6, 'MIRINAE              ', 0],\n [0, 19, 1604, 0, 6, 'NIDA                 ', 0],\n [0, 31, 1605, 0, 6, 'OMAIS                ', 0],\n [0, 33, 1606, 0, 6, 'CONSON               ', 0],\n [0, 24, 1607, 0, 6, 'CHANTHU              ', 0],\n [0, 20, 1608, 0, 6, 'DIANMU               ', 0],\n [0, 25, 1609, 0, 6, 'MINDULLE             ', 0],\n [0, 53, 1610, 0, 6, 'Lionrock             ', 0],\n [0, 13, 1611, 0, 6, 'KOMPASU              ', 0],\n [0, 21, 1612, 0, 6, 'Namtheun             ', 0],\n [0, 9, 1613, 0, 6, 'Malou                ', 0],\n [0, 34, 1614, 0, 6, 'MERANTI              ', 0],\n [0, 12, 1615, 0, 6, 'RAI                  ', 0],\n [0, 36, 1616, 0, 6, 'MALAKAS              ', 0],\n [0, 29, 1617, 0, 6, 'MEGI                 ', 0],\n [0, 46, 1618, 0, 6, 'CHABA                ', 0],\n [0, 41, 1619, 0, 6, 'AERE                 ', 0],\n [0, 27, 1620, 0, 6, 'SONGDA               ', 0],\n [0, 31, 1621, 0, 6, 'SARIKA               ', 0],\n [0, 34, 1622, 0, 6, 'HAIMA                ', 0],\n [0, 31, 1623, 0, 6, 'MEARI                ', 0],\n [0, 16, 1624, 0, 6, 'MA-ON                ', 0],\n [0, 12, 0, 0, 6, '(nameless)           ', 0],\n [0, 17, 1625, 0, 6, 'TOKAGE               ', 0],\n [0, 34, 1626, 0, 6, 'NOCK-TEN             ', 0],\n [0, 25, 0, 0, 6, '(nameless)           ', 0],\n [1701, 27, 1701, 0, 6, 'MUIFA                ', 0],\n [1702, 21, 1702, 0, 3, 'MERBOK               ', 0],\n [1703, 21, 1703, 0, 6, 'NANMADOL             ', 0],\n [1704, 15, 1704, 0, 6, 'TALAS                ', 0],\n [1705, 82, 1705, 0, 6, 'NORU                 ', 0],\n [1706, 33, 1706, 0, 6, 'KULAP                ', 0],\n [1707, 14, 1707, 0, 3, 'ROKE                 ', 0],\n [1708, 34, 1708, 0, 6, 'SONCA                ', 0],\n [1709, 31, 1709, 0, 3, 'NESAT                ', 0],\n [1710, 33, 1710, 0, 3, 'HAITANG              ', 0],\n [1711, 30, 1711, 0, 6, 'NALGAE               ', 0],\n [1712, 27, 1712, 0, 6, 'BANYAN               ', 0],\n [1713, 26, 1713, 0, 3, 'HATO                 ', 0],\n [1714, 21, 1714, 0, 3, 'PAKHAR               ', 0],\n [1715, 40, 1715, 0, 6, 'SANVU                ', 0],\n [1716, 22, 1716, 0, 3, 'MAWAR                ', 0],\n [1717, 16, 1717, 0, 6, 'GUCHOL               ', 0],\n [1718, 53, 1718, 0, 6, 'TALIM                ', 0],\n [1719, 22, 1719, 0, 6, 'DOKSURI              ', 0],\n [0, 13, 0, 0, 3, '(nameless)           ', 0],\n [0, 9, 0, 0, 6, '(nameless)           ', 0],\n [1720, 25, 1720, 0, 3, 'KHANUN               ', 0],\n [1721, 35, 1721, 0, 6, 'LAN                  ', 0],\n [1722, 30, 1722, 0, 6, 'SAOLA                ', 0],\n [1723, 21, 1723, 0, 6, 'DAMREY               ', 0],\n [1724, 23, 1724, 0, 6, 'HAIKUI               ', 0],\n [1725, 12, 1725, 0, 6, 'KIROGI               ', 0],\n [1726, 40, 1726, 0, 6, 'KAI-TAK              ', 0],\n [1727, 26, 1727, 0, 6, 'TEMBIN               ', 0],\n [1801, 19, 1801, 0, 6, 'BOLAVEN              ', 0],\n [1802, 26, 1802, 0, 6, 'SANBA                ', 0],\n [1803, 32, 1803, 0, 6, 'JELAWAT              ', 0],\n [0, 15, 0, 0, 6, '(nameless)           ', 0],\n [1804, 50, 1804, 0, 3, 'EWINIAR              ', 0],\n [1805, 26, 1805, 0, 6, 'MALIKSI              ', 0],\n [1806, 32, 1806, 0, 3, 'GAEMI                ', 0],\n [1807, 30, 1807, 0, 6, 'PRAPIROON            ', 0],\n [1808, 53, 1808, 0, 3, 'MARIA                ', 0],\n [1809, 53, 1809, 0, 3, 'SON-TINH             ', 0],\n [1810, 52, 1810, 0, 3, 'AMPIL                ', 0],\n [0, 14, 0, 0, 6, '(nameless)           ', 0],\n [1811, 22, 1811, 0, 6, 'WUKONG               ', 0],\n [1812, 62, 1812, 0, 3, 'JONGDARI             ', 0],\n [0, 12, 0, 0, 6, '(nameless)           ', 0],\n [1813, 36, 1813, 0, 6, 'SHANSHAN             ', 0],\n [1814, 53, 1814, 0, 3, 'YAGI                 ', 0],\n [1815, 21, 1815, 0, 6, 'LEEPI                ', 0],\n [1816, 63, 1816, 0, 3, 'BEBINCA              ', 0],\n [1817, 64, 1817, 0, 6, 'HECTOR               ', 0],\n [1818, 44, 1818, 0, 3, 'RUMBIA               ', 0],\n [1819, 48, 1819, 0, 6, 'SOULIK               ', 0],\n [1820, 31, 1820, 0, 6, 'CIMARON              ', 0],\n [0, 27, 0, 0, 3, '(nameless)           ', 0],\n [1821, 46, 1821, 0, 6, 'JEBI                 ', 0],\n [1822, 52, 1822, 0, 3, 'MANGKHUT             ', 0],\n [1823, 30, 1823, 0, 3, 'BARIJAT              ', 0],\n [1824, 53, 1824, 1, 6, 'TRAMI                ', 0],\n [1825, 39, 1825, 0, 6, 'KONG-REY             ', 0],\n [1826, 54, 1826, 0, 6, 'YUTU                 ', 0],\n [1827, 7, 1827, 0, 6, 'TORAJI               ', 0],\n [1828, 36, 1828, 0, 6, 'MAN-YI               ', 0],\n [1829, 36, 1829, 0, 6, 'USAGI                ', 0],\n [0, 13, 0, 0, 6, '(nameless)           ', 0],\n [1901, 20, 1901, 0, 6, 'PABUK                ', 0],\n [0, 17, 0, 0, 6, '(nameless)           ', 0],\n [1902, 48, 1902, 0, 6, 'WUTIP                ', 0],\n [0, 11, 0, 0, 6, '(nameless)           ', 0],\n [1903, 18, 1903, 0, 6, 'SEPAT                ', 0],\n [0, 8, 0, 0, 6, '(nameless)           ', 0],\n [1904, 17, 1904, 0, 3, 'MUN                  ', 0],\n [1905, 37, 1905, 0, 6, 'DANAS                ', 0],\n [1906, 21, 1906, 0, 6, 'NARI                 ', 0],\n [1907, 31, 1907, 0, 3, 'WIPHA                ', 0],\n [1908, 34, 1908, 0, 6, 'FRANCISCO            ', 0],\n [1909, 62, 1909, 0, 3, 'LEKIMA               ', 0],\n [1910, 48, 1910, 0, 6, 'KROSA                ', 0],\n [1911, 38, 1911, 0, 3, 'BAILU                ', 0],\n [1912, 24, 1912, 0, 6, 'PODUL                ', 0],\n [1913, 45, 1913, 0, 6, 'LINGLING             ', 0],\n [1914, 37, 1914, 0, 3, 'KAJIKI               ', 0],\n [1915, 37, 1915, 0, 6, 'FAXAI                ', 0],\n [0, 16, 0, 0, 6, '(nameless)           ', 0],\n [1916, 16, 1916, 0, 6, 'PEIPAH               ', 0],\n [1917, 27, 1917, 0, 6, 'TAPAH                ', 0],\n [1918, 37, 1918, 0, 3, 'MITAG                ', 0],\n [1919, 39, 1919, 0, 6, 'HAGIBIS              ', 0],\n [1920, 29, 1920, 0, 6, 'NEOGURI              ', 0],\n [1921, 30, 1921, 0, 6, 'BUALOI               ', 0],\n [1922, 13, 1922, 0, 6, 'MATMO                ', 0],\n [1923, 34, 1923, 0, 6, 'HALONG               ', 0],\n [1924, 28, 1924, 0, 6, 'NAKRI                ', 0],\n [1925, 30, 1925, 0, 6, 'FENGSHEN             ', 0],\n [1926, 44, 1926, 0, 6, 'KALMAEGI             ', 0],\n [1927, 25, 1927, 0, 6, 'FUNG-WONG            ', 0],\n [1928, 45, 1928, 0, 6, 'KAMMURI              ', 0],\n [1929, 37, 1929, 0, 6, 'PHANFONE             ', 0],\n [2001, 37, 2001, 0, 6, 'Vongfong             ', 0],\n [2002, 25, 2002, 0, 3, 'Nuri  \\t\\t\\t\\t           ', 0],\n [2003, 16, 2003, 0, 3, 'Sinlaku              ', 0],\n [2004, 55, 2004, 0, 3, 'Hagupit              ', 0],\n [2005, 29, 2005, 0, 6, 'Jangmi               ', 0],\n [2006, 15, 2006, 0, 3, 'Mekkhala             ', 0],\n [0, 17, 0, 0, 6, '(nameless)           ', 0],\n [2007, 21, 2007, 0, 3, 'Higos                ', 0],\n [2008, 29, 2008, 0, 6, 'Bavi                 ', 0],\n [2009, 37, 2009, 0, 6, 'Maysak               ', 0],\n [2010, 35, 2010, 0, 6, 'Haishen              ', 0],\n [2011, 18, 2011, 0, 6, 'Noul                 ', 0],\n [2012, 37, 2012, 0, 6, 'Dolphin              ', 0],\n [2013, 25, 2013, 0, 6, 'Kujira               ', 0],\n [2014, 54, 2014, 0, 6, 'Chan-hom             ', 0],\n [2015, 20, 2015, 0, 6, 'Linfa                ', 0],\n [2016, 20, 2016, 0, 3, 'Nangka               ', 0],\n [0, 10, 0, 0, 6, '(nameless)           ', 0],\n [2017, 30, 2017, 0, 6, 'Saudel               ', 0],\n [0, 13, 0, 0, 6, '(nameless)           ', 0],\n [2018, 26, 2018, 0, 6, 'Molave               ', 0],\n [2019, 44, 2019, 0, 6, 'Goni                 ', 0],\n [2020, 39, 2020, 0, 6, 'Atsani               ', 0],\n [2021, 18, 2021, 0, 6, 'Etau                 ', 0],\n [2022, 33, 2022, 0, 6, 'Vamco                ', 0],\n [2023, 30, 2023, 0, 6, 'Krovanh              ', 0]]"
     },
     "execution_count": 18,
     "metadata": {},
     "output_type": "execute_result"
    }
   ],
   "source": [
    "typhoon_test_information"
   ]
  },
  {
   "cell_type": "code",
   "execution_count": 70,
   "outputs": [
    {
     "data": {
      "text/plain": "152"
     },
     "execution_count": 70,
     "metadata": {},
     "output_type": "execute_result"
    }
   ],
   "source": [
    "with open('./data/TestData.json', 'r') as f:\n",
    "    test = json.load(f)\n",
    "len(test)"
   ],
   "metadata": {
    "collapsed": false,
    "pycharm": {
     "name": "#%%\n"
    }
   }
  },
  {
   "cell_type": "code",
   "execution_count": 66,
   "outputs": [],
   "source": [
    "import random\n",
    "from random import sample\n",
    "\n",
    "TestSplitX = {1:[],5:[],10:[]}\n",
    "TestSplitY = {1:[],5:[],10:[]}\n",
    "TestSplitInfo = {1:[],5:[],10:[]}\n",
    "for l in [1,5,10]:\n",
    "    for i in range(len(test)):\n",
    "        if len(test[i]) > l:\n",
    "            for j in range(len(test[i]) - l):\n",
    "                TestSplitX[l].append(test[i][j:j+l])\n",
    "                TestSplitY[l].append(test[i][j+l:])\n",
    "                TestSplitInfo[l].append(i)\n",
    "\n",
    "for l in [1,5,10]:\n",
    "    random.seed(10086)\n",
    "    TestSplitX[l] = sample(TestSplitX[l], 1000)\n",
    "    random.seed(10086)\n",
    "    TestSplitY[l] = sample(TestSplitY[l], 1000)\n",
    "    random.seed(10086)\n",
    "    TestSplitInfo[l] = sample(TestSplitInfo[l], 1000)"
   ],
   "metadata": {
    "collapsed": false,
    "pycharm": {
     "name": "#%%\n"
    }
   }
  },
  {
   "cell_type": "code",
   "execution_count": 67,
   "outputs": [],
   "source": [
    "with open('./data/TestSplitX.json','w') as f:\n",
    "    json.dump(TestSplitX, f)\n",
    "with open('./data/TestSplitY.json','w') as f:\n",
    "    json.dump(TestSplitY, f)\n",
    "with open('./data/TestSplitInfo.json','w') as f:\n",
    "    json.dump(TestSplitInfo, f)"
   ],
   "metadata": {
    "collapsed": false,
    "pycharm": {
     "name": "#%%\n"
    }
   }
  },
  {
   "cell_type": "code",
   "execution_count": 69,
   "outputs": [
    {
     "data": {
      "text/plain": "[[2016091212, 1, 135, 1408, 1000, 15, -1],\n [2016091218, 1, 139, 1395, 1000, 15, -1],\n [2016091300, 2, 142, 1379, 998, 18, -1],\n [2016091306, 2, 145, 1368, 995, 20, -1],\n [2016091312, 2, 148, 1356, 992, 23, -1],\n [2016091318, 3, 150, 1344, 990, 25, -1],\n [2016091400, 3, 155, 1333, 980, 30, -1],\n [2016091406, 4, 158, 1321, 975, 33, -1],\n [2016091412, 4, 164, 1311, 970, 35, -1],\n [2016091418, 4, 167, 1300, 965, 38, -1],\n [2016091500, 4, 171, 1287, 965, 38, -1],\n [2016091506, 4, 176, 1278, 965, 38, -1],\n [2016091512, 5, 184, 1268, 955, 42, -1],\n [2016091518, 5, 193, 1256, 955, 42, -1],\n [2016091600, 5, 201, 1246, 955, 42, -1],\n [2016091606, 5, 211, 1239, 950, 45, -1],\n [2016091612, 5, 221, 1234, 945, 48, -1],\n [2016091618, 5, 229, 1231, 940, 50, -1],\n [2016091700, 5, 241, 1230, 940, 50, -1],\n [2016091706, 5, 253, 1228, 940, 50, -1],\n [2016091712, 5, 258, 1227, 945, 48, -1],\n [2016091718, 5, 262, 1227, 945, 48, -1],\n [2016091800, 5, 268, 1235, 950, 45, -1],\n [2016091806, 5, 275, 1242, 955, 42, -1],\n [2016091812, 5, 280, 1251, 955, 45, -1],\n [2016091818, 5, 286, 1260, 945, 48, -1],\n [2016091900, 5, 294, 1271, 945, 48, -1],\n [2016091906, 5, 302, 1283, 945, 48, -1],\n [2016091912, 5, 308, 1298, 950, 45, -1],\n [2016091918, 4, 316, 1315, 960, 40, -1],\n [2016092000, 4, 327, 1335, 970, 35, -1],\n [2016092006, 3, 343, 1361, 985, 25, -1],\n [2016092012, 2, 345, 1383, 1004, 18, 0]]"
     },
     "execution_count": 69,
     "metadata": {},
     "output_type": "execute_result"
    }
   ],
   "source": [
    "TestSplitY[1][0]"
   ],
   "metadata": {
    "collapsed": false,
    "pycharm": {
     "name": "#%%\n"
    }
   }
  },
  {
   "cell_type": "code",
   "execution_count": 67,
   "outputs": [],
   "source": [],
   "metadata": {
    "collapsed": false,
    "pycharm": {
     "name": "#%%\n"
    }
   }
  },
  {
   "cell_type": "code",
   "execution_count": 67,
   "outputs": [],
   "source": [],
   "metadata": {
    "collapsed": false,
    "pycharm": {
     "name": "#%%\n"
    }
   }
  },
  {
   "cell_type": "code",
   "execution_count": 3,
   "outputs": [
    {
     "data": {
      "text/plain": "152"
     },
     "execution_count": 3,
     "metadata": {},
     "output_type": "execute_result"
    }
   ],
   "source": [
    "with open('./data/TestDataInformation.json', 'r') as f:\n",
    "    train = json.load(f)\n",
    "len(train)"
   ],
   "metadata": {
    "collapsed": false,
    "pycharm": {
     "name": "#%%\n"
    }
   }
  },
  {
   "cell_type": "code",
   "execution_count": 4,
   "outputs": [
    {
     "data": {
      "text/plain": "[[0, 9, 0, 0, 6, '(nameless)           ', 0],\n [0, 31, 1601, 0, 6, 'NEPARTAK             ', 0],\n [0, 10, 0, 0, 6, '(nameless)           ', 0],\n [0, 15, 1602, 0, 6, 'LUPIT                ', 0],\n [0, 12, 1603, 0, 6, 'MIRINAE              ', 0],\n [0, 19, 1604, 0, 6, 'NIDA                 ', 0],\n [0, 31, 1605, 0, 6, 'OMAIS                ', 0],\n [0, 33, 1606, 0, 6, 'CONSON               ', 0],\n [0, 24, 1607, 0, 6, 'CHANTHU              ', 0],\n [0, 20, 1608, 0, 6, 'DIANMU               ', 0],\n [0, 25, 1609, 0, 6, 'MINDULLE             ', 0],\n [0, 53, 1610, 0, 6, 'Lionrock             ', 0],\n [0, 13, 1611, 0, 6, 'KOMPASU              ', 0],\n [0, 21, 1612, 0, 6, 'Namtheun             ', 0],\n [0, 9, 1613, 0, 6, 'Malou                ', 0],\n [0, 34, 1614, 0, 6, 'MERANTI              ', 0],\n [0, 12, 1615, 0, 6, 'RAI                  ', 0],\n [0, 36, 1616, 0, 6, 'MALAKAS              ', 0],\n [0, 29, 1617, 0, 6, 'MEGI                 ', 0],\n [0, 46, 1618, 0, 6, 'CHABA                ', 0],\n [0, 41, 1619, 0, 6, 'AERE                 ', 0],\n [0, 27, 1620, 0, 6, 'SONGDA               ', 0],\n [0, 31, 1621, 0, 6, 'SARIKA               ', 0],\n [0, 34, 1622, 0, 6, 'HAIMA                ', 0],\n [0, 31, 1623, 0, 6, 'MEARI                ', 0],\n [0, 16, 1624, 0, 6, 'MA-ON                ', 0],\n [0, 12, 0, 0, 6, '(nameless)           ', 0],\n [0, 17, 1625, 0, 6, 'TOKAGE               ', 0],\n [0, 34, 1626, 0, 6, 'NOCK-TEN             ', 0],\n [0, 25, 0, 0, 6, '(nameless)           ', 0],\n [1701, 27, 1701, 0, 6, 'MUIFA                ', 0],\n [1702, 21, 1702, 0, 3, 'MERBOK               ', 0],\n [1703, 21, 1703, 0, 6, 'NANMADOL             ', 0],\n [1704, 15, 1704, 0, 6, 'TALAS                ', 0],\n [1705, 82, 1705, 0, 6, 'NORU                 ', 0],\n [1706, 33, 1706, 0, 6, 'KULAP                ', 0],\n [1707, 14, 1707, 0, 3, 'ROKE                 ', 0],\n [1708, 34, 1708, 0, 6, 'SONCA                ', 0],\n [1709, 31, 1709, 0, 3, 'NESAT                ', 0],\n [1710, 33, 1710, 0, 3, 'HAITANG              ', 0],\n [1711, 30, 1711, 0, 6, 'NALGAE               ', 0],\n [1712, 27, 1712, 0, 6, 'BANYAN               ', 0],\n [1713, 26, 1713, 0, 3, 'HATO                 ', 0],\n [1714, 21, 1714, 0, 3, 'PAKHAR               ', 0],\n [1715, 40, 1715, 0, 6, 'SANVU                ', 0],\n [1716, 22, 1716, 0, 3, 'MAWAR                ', 0],\n [1717, 16, 1717, 0, 6, 'GUCHOL               ', 0],\n [1718, 53, 1718, 0, 6, 'TALIM                ', 0],\n [1719, 22, 1719, 0, 6, 'DOKSURI              ', 0],\n [0, 13, 0, 0, 3, '(nameless)           ', 0],\n [0, 9, 0, 0, 6, '(nameless)           ', 0],\n [1720, 25, 1720, 0, 3, 'KHANUN               ', 0],\n [1721, 35, 1721, 0, 6, 'LAN                  ', 0],\n [1722, 30, 1722, 0, 6, 'SAOLA                ', 0],\n [1723, 21, 1723, 0, 6, 'DAMREY               ', 0],\n [1724, 23, 1724, 0, 6, 'HAIKUI               ', 0],\n [1725, 12, 1725, 0, 6, 'KIROGI               ', 0],\n [1726, 40, 1726, 0, 6, 'KAI-TAK              ', 0],\n [1727, 26, 1727, 0, 6, 'TEMBIN               ', 0],\n [1801, 19, 1801, 0, 6, 'BOLAVEN              ', 0],\n [1802, 26, 1802, 0, 6, 'SANBA                ', 0],\n [1803, 32, 1803, 0, 6, 'JELAWAT              ', 0],\n [0, 15, 0, 0, 6, '(nameless)           ', 0],\n [1804, 50, 1804, 0, 3, 'EWINIAR              ', 0],\n [1805, 26, 1805, 0, 6, 'MALIKSI              ', 0],\n [1806, 32, 1806, 0, 3, 'GAEMI                ', 0],\n [1807, 30, 1807, 0, 6, 'PRAPIROON            ', 0],\n [1808, 53, 1808, 0, 3, 'MARIA                ', 0],\n [1809, 53, 1809, 0, 3, 'SON-TINH             ', 0],\n [1810, 52, 1810, 0, 3, 'AMPIL                ', 0],\n [0, 14, 0, 0, 6, '(nameless)           ', 0],\n [1811, 22, 1811, 0, 6, 'WUKONG               ', 0],\n [1812, 62, 1812, 0, 3, 'JONGDARI             ', 0],\n [0, 12, 0, 0, 6, '(nameless)           ', 0],\n [1813, 36, 1813, 0, 6, 'SHANSHAN             ', 0],\n [1814, 53, 1814, 0, 3, 'YAGI                 ', 0],\n [1815, 21, 1815, 0, 6, 'LEEPI                ', 0],\n [1816, 63, 1816, 0, 3, 'BEBINCA              ', 0],\n [1817, 64, 1817, 0, 6, 'HECTOR               ', 0],\n [1818, 44, 1818, 0, 3, 'RUMBIA               ', 0],\n [1819, 48, 1819, 0, 6, 'SOULIK               ', 0],\n [1820, 31, 1820, 0, 6, 'CIMARON              ', 0],\n [0, 27, 0, 0, 3, '(nameless)           ', 0],\n [1821, 46, 1821, 0, 6, 'JEBI                 ', 0],\n [1822, 52, 1822, 0, 3, 'MANGKHUT             ', 0],\n [1823, 30, 1823, 0, 3, 'BARIJAT              ', 0],\n [1824, 53, 1824, 1, 6, 'TRAMI                ', 0],\n [1825, 39, 1825, 0, 6, 'KONG-REY             ', 0],\n [1826, 54, 1826, 0, 6, 'YUTU                 ', 0],\n [1827, 7, 1827, 0, 6, 'TORAJI               ', 0],\n [1828, 36, 1828, 0, 6, 'MAN-YI               ', 0],\n [1829, 36, 1829, 0, 6, 'USAGI                ', 0],\n [0, 13, 0, 0, 6, '(nameless)           ', 0],\n [1901, 20, 1901, 0, 6, 'PABUK                ', 0],\n [0, 17, 0, 0, 6, '(nameless)           ', 0],\n [1902, 48, 1902, 0, 6, 'WUTIP                ', 0],\n [0, 11, 0, 0, 6, '(nameless)           ', 0],\n [1903, 18, 1903, 0, 6, 'SEPAT                ', 0],\n [0, 8, 0, 0, 6, '(nameless)           ', 0],\n [1904, 17, 1904, 0, 3, 'MUN                  ', 0],\n [1905, 37, 1905, 0, 6, 'DANAS                ', 0],\n [1906, 21, 1906, 0, 6, 'NARI                 ', 0],\n [1907, 31, 1907, 0, 3, 'WIPHA                ', 0],\n [1908, 34, 1908, 0, 6, 'FRANCISCO            ', 0],\n [1909, 62, 1909, 0, 3, 'LEKIMA               ', 0],\n [1910, 48, 1910, 0, 6, 'KROSA                ', 0],\n [1911, 38, 1911, 0, 3, 'BAILU                ', 0],\n [1912, 24, 1912, 0, 6, 'PODUL                ', 0],\n [1913, 45, 1913, 0, 6, 'LINGLING             ', 0],\n [1914, 37, 1914, 0, 3, 'KAJIKI               ', 0],\n [1915, 37, 1915, 0, 6, 'FAXAI                ', 0],\n [0, 16, 0, 0, 6, '(nameless)           ', 0],\n [1916, 16, 1916, 0, 6, 'PEIPAH               ', 0],\n [1917, 27, 1917, 0, 6, 'TAPAH                ', 0],\n [1918, 37, 1918, 0, 3, 'MITAG                ', 0],\n [1919, 39, 1919, 0, 6, 'HAGIBIS              ', 0],\n [1920, 29, 1920, 0, 6, 'NEOGURI              ', 0],\n [1921, 30, 1921, 0, 6, 'BUALOI               ', 0],\n [1922, 13, 1922, 0, 6, 'MATMO                ', 0],\n [1923, 34, 1923, 0, 6, 'HALONG               ', 0],\n [1924, 28, 1924, 0, 6, 'NAKRI                ', 0],\n [1925, 30, 1925, 0, 6, 'FENGSHEN             ', 0],\n [1926, 44, 1926, 0, 6, 'KALMAEGI             ', 0],\n [1927, 25, 1927, 0, 6, 'FUNG-WONG            ', 0],\n [1928, 45, 1928, 0, 6, 'KAMMURI              ', 0],\n [1929, 37, 1929, 0, 6, 'PHANFONE             ', 0],\n [2001, 37, 2001, 0, 6, 'Vongfong             ', 0],\n [2002, 25, 2002, 0, 3, 'Nuri  \\t\\t\\t\\t           ', 0],\n [2003, 16, 2003, 0, 3, 'Sinlaku              ', 0],\n [2004, 55, 2004, 0, 3, 'Hagupit              ', 0],\n [2005, 29, 2005, 0, 6, 'Jangmi               ', 0],\n [2006, 15, 2006, 0, 3, 'Mekkhala             ', 0],\n [0, 17, 0, 0, 6, '(nameless)           ', 0],\n [2007, 21, 2007, 0, 3, 'Higos                ', 0],\n [2008, 29, 2008, 0, 6, 'Bavi                 ', 0],\n [2009, 37, 2009, 0, 6, 'Maysak               ', 0],\n [2010, 35, 2010, 0, 6, 'Haishen              ', 0],\n [2011, 18, 2011, 0, 6, 'Noul                 ', 0],\n [2012, 37, 2012, 0, 6, 'Dolphin              ', 0],\n [2013, 25, 2013, 0, 6, 'Kujira               ', 0],\n [2014, 54, 2014, 0, 6, 'Chan-hom             ', 0],\n [2015, 20, 2015, 0, 6, 'Linfa                ', 0],\n [2016, 20, 2016, 0, 3, 'Nangka               ', 0],\n [0, 10, 0, 0, 6, '(nameless)           ', 0],\n [2017, 30, 2017, 0, 6, 'Saudel               ', 0],\n [0, 13, 0, 0, 6, '(nameless)           ', 0],\n [2018, 26, 2018, 0, 6, 'Molave               ', 0],\n [2019, 44, 2019, 0, 6, 'Goni                 ', 0],\n [2020, 39, 2020, 0, 6, 'Atsani               ', 0],\n [2021, 18, 2021, 0, 6, 'Etau                 ', 0],\n [2022, 33, 2022, 0, 6, 'Vamco                ', 0],\n [2023, 30, 2023, 0, 6, 'Krovanh              ', 0]]"
     },
     "execution_count": 4,
     "metadata": {},
     "output_type": "execute_result"
    }
   ],
   "source": [
    "train"
   ],
   "metadata": {
    "collapsed": false,
    "pycharm": {
     "name": "#%%\n"
    }
   }
  },
  {
   "cell_type": "code",
   "execution_count": 11,
   "outputs": [
    {
     "data": {
      "text/plain": "array([False, False, False, False, False, False, False, False, False,\n       False, False, False, False, False, False, False, False, False,\n       False, False, False, False, False, False, False, False, False,\n       False, False, False, False, False, False, False, False, False,\n       False, False, False, False, False, False, False, False, False,\n       False, False, False, False, False, False, False, False, False,\n       False, False, False, False, False, False, False, False, False,\n       False, False, False, False, False, False, False, False, False,\n       False, False, False, False, False, False, False, False, False,\n       False, False, False, False, False, False, False, False, False,\n       False, False, False, False, False, False, False, False, False,\n       False, False, False, False, False, False, False, False, False,\n       False, False, False, False, False, False, False, False, False,\n       False, False, False, False, False, False, False, False, False,\n       False, False, False, False, False, False, False, False, False,\n       False, False, False, False, False, False, False, False, False,\n       False, False, False, False, False, False, False, False])"
     },
     "execution_count": 11,
     "metadata": {},
     "output_type": "execute_result"
    }
   ],
   "source": [
    "np.array(train)[:,5] == 'CHABA'"
   ],
   "metadata": {
    "collapsed": false,
    "pycharm": {
     "name": "#%%\n"
    }
   }
  },
  {
   "cell_type": "code",
   "execution_count": 24,
   "outputs": [
    {
     "data": {
      "text/plain": "(array([19], dtype=int64),)"
     },
     "execution_count": 24,
     "metadata": {},
     "output_type": "execute_result"
    }
   ],
   "source": [
    "np.where(np.array(train)[:,5] == 'CHABA                ')"
   ],
   "metadata": {
    "collapsed": false,
    "pycharm": {
     "name": "#%%\n"
    }
   }
  },
  {
   "cell_type": "code",
   "execution_count": 23,
   "outputs": [
    {
     "data": {
      "text/plain": "array([['0', '9', '0', ..., '6', '(nameless)           ', '0'],\n       ['0', '31', '1601', ..., '6', 'NEPARTAK             ', '0'],\n       ['0', '10', '0', ..., '6', '(nameless)           ', '0'],\n       ...,\n       ['2021', '18', '2021', ..., '6', 'Etau                 ', '0'],\n       ['2022', '33', '2022', ..., '6', 'Vamco                ', '0'],\n       ['2023', '30', '2023', ..., '6', 'Krovanh              ', '0']],\n      dtype='<U21')"
     },
     "execution_count": 23,
     "metadata": {},
     "output_type": "execute_result"
    }
   ],
   "source": [
    "np.array(train)[:,:]"
   ],
   "metadata": {
    "collapsed": false,
    "pycharm": {
     "name": "#%%\n"
    }
   }
  },
  {
   "cell_type": "code",
   "execution_count": null,
   "outputs": [],
   "source": [
    "CHABATAK"
   ],
   "metadata": {
    "collapsed": false,
    "pycharm": {
     "name": "#%%\n"
    }
   }
  }
 ],
 "metadata": {
  "kernelspec": {
   "display_name": "main",
   "language": "python",
   "name": "main"
  },
  "language_info": {
   "codemirror_mode": {
    "name": "ipython",
    "version": 3
   },
   "file_extension": ".py",
   "mimetype": "text/x-python",
   "name": "python",
   "nbconvert_exporter": "python",
   "pygments_lexer": "ipython3",
   "version": "3.9.16"
  }
 },
 "nbformat": 4,
 "nbformat_minor": 5
}