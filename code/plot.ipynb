{
 "cells": [
  {
   "cell_type": "code",
   "execution_count": null,
   "metadata": {
    "collapsed": true,
    "pycharm": {
     "name": "#%%\n"
    }
   },
   "outputs": [],
   "source": [
    "import random\n",
    "import numpy as np\n",
    "import pandas as pd\n",
    "import torch\n",
    "from data import MyData\n",
    "from torch.utils.data import DataLoader\n",
    "from model import BaseLSTM,MyModel,MyLSTM\n",
    "import matplotlib.pyplot as plt\n",
    "\n",
    "device = torch.device('cuda' if torch.cuda.is_available() else 'cpu')\n",
    "mycolors = plt.cm.RdBu(list(range(0,256,256//10)))\n",
    "\n",
    "def setup_seed(seed):\n",
    "\ttorch.manual_seed(seed)\n",
    "\ttorch.cuda.manual_seed_all(seed)\n",
    "\tnp.random.seed(seed)\n",
    "\trandom.seed(seed)"
   ]
  },
  {
   "cell_type": "code",
   "execution_count": 1,
   "outputs": [
    {
     "ename": "ModuleNotFoundError",
     "evalue": "No module named 'cartopy'",
     "output_type": "error",
     "traceback": [
      "\u001B[1;31m---------------------------------------------------------------------------\u001B[0m",
      "\u001B[1;31mModuleNotFoundError\u001B[0m                       Traceback (most recent call last)",
      "Cell \u001B[1;32mIn[1], line 2\u001B[0m\n\u001B[0;32m      1\u001B[0m \u001B[38;5;28;01mimport\u001B[39;00m \u001B[38;5;21;01mmatplotlib\u001B[39;00m\u001B[38;5;21;01m.\u001B[39;00m\u001B[38;5;21;01mpyplot\u001B[39;00m \u001B[38;5;28;01mas\u001B[39;00m \u001B[38;5;21;01mplt\u001B[39;00m\n\u001B[1;32m----> 2\u001B[0m \u001B[38;5;28;01mimport\u001B[39;00m \u001B[38;5;21;01mcartopy\u001B[39;00m\u001B[38;5;21;01m.\u001B[39;00m\u001B[38;5;21;01mcrs\u001B[39;00m \u001B[38;5;28;01mas\u001B[39;00m \u001B[38;5;21;01mccrs\u001B[39;00m\n\u001B[0;32m      3\u001B[0m \u001B[38;5;28;01mimport\u001B[39;00m \u001B[38;5;21;01mcartopy\u001B[39;00m\u001B[38;5;21;01m.\u001B[39;00m\u001B[38;5;21;01mfeature\u001B[39;00m \u001B[38;5;28;01mas\u001B[39;00m \u001B[38;5;21;01mcfeature\u001B[39;00m\n\u001B[0;32m      4\u001B[0m \u001B[38;5;28;01mimport\u001B[39;00m \u001B[38;5;21;01mcartopy\u001B[39;00m\u001B[38;5;21;01m.\u001B[39;00m\u001B[38;5;21;01mio\u001B[39;00m\u001B[38;5;21;01m.\u001B[39;00m\u001B[38;5;21;01mshapereader\u001B[39;00m \u001B[38;5;28;01mas\u001B[39;00m \u001B[38;5;21;01mshapereader\u001B[39;00m\n",
      "\u001B[1;31mModuleNotFoundError\u001B[0m: No module named 'cartopy'"
     ]
    }
   ],
   "source": [
    "import matplotlib.pyplot as plt\n",
    "import cartopy.crs as ccrs\n",
    "import cartopy.feature as cfeature\n",
    "import cartopy.io.shapereader as shapereader"
   ],
   "metadata": {
    "collapsed": false,
    "pycharm": {
     "name": "#%%\n"
    }
   }
  },
  {
   "cell_type": "code",
   "execution_count": null,
   "outputs": [],
   "source": [],
   "metadata": {
    "collapsed": false,
    "pycharm": {
     "name": "#%%\n"
    }
   }
  },
  {
   "cell_type": "code",
   "execution_count": null,
   "outputs": [],
   "source": [
    "def test_19():\n",
    "\ttestdata = MyData(data_path='./data/TestData.json', l=4, frac=1, TaifengID=19)\n",
    "\tbatch_size = 4096\n",
    "\tRMSE = {}\n",
    "\n",
    "\tGT_Predict = pd.DataFrame(np.full([len(testdata), 5], np.nan),\n",
    "\t                          columns=['True_lat', 'True_lon', 'Predict_lat', 'Predict_lon', 'SE'])\n",
    "\n",
    "\tmodel = BaseLSTM().to(device)\n",
    "\tmodel.load_state_dict(torch.load(f'checkpoints/BaseLSTM/best.pth'))\n",
    "\ttest_dataloader = DataLoader(testdata, batch_size=batch_size, shuffle=False)\n",
    "\n",
    "\tfor i, batch in enumerate(test_dataloader):\n",
    "\t\tX, y, _, _ = batch\n",
    "\t\tmodel.eval()\n",
    "\t\tpredict_y = testdata.inverse_norm(model(X.to(device)).cpu().detach()).numpy()\n",
    "\t\ttrue_y = testdata.inverse_norm(y).numpy()\n",
    "\tGT_Predict.iloc[:, :2] = true_y[:, :2] * 0.1\n",
    "\n",
    "\tGT_Predict.iloc[:, 2:4] = predict_y[:, :2] * 0.1\n",
    "\tGT_Predict.iloc[:, 4] = np.sum(np.square(GT_Predict.iloc[:, :2].values - GT_Predict.iloc[:, 2:4].values), axis=1)\n",
    "    return GT_Predict\n"
   ],
   "metadata": {
    "collapsed": false,
    "pycharm": {
     "name": "#%%\n"
    }
   }
  },
  {
   "cell_type": "code",
   "execution_count": null,
   "outputs": [],
   "source": [
    "# points_lab和points_pre是二维np.array数组，两列分别是纬度和经度\n",
    "df_lab = pd.DataFrame(points_lab, columns=['lat', 'lon'])\n",
    "df_pre = pd.DataFrame(points_pre, columns=['lat', 'lon'])"
   ],
   "metadata": {
    "collapsed": false,
    "pycharm": {
     "name": "#%%\n"
    }
   }
  },
  {
   "cell_type": "code",
   "execution_count": null,
   "outputs": [],
   "source": [
    "proj = ccrs.PlateCarree()\n",
    "fig = plt.figure(figsize=(7, 5), dpi=200)  # 创建画布\n",
    "ax = plt.axes(projection=ccrs.PlateCarree())# 创建子图\n",
    "\n",
    "ax.coastlines(resolution='50m', lw=0.5)\n",
    "ax.add_feature(cfeature.LAND.with_scale('50m')) # 添加陆地\n",
    "ax.add_feature(cfeature.COASTLINE.with_scale('50m'),lw=0.25)# 添加海岸线\n",
    "ax.add_feature(cfeature.RIVERS.with_scale('50m'),lw=0.4)# 添加河流\n",
    "ax.add_feature(cfeature.LAKES.with_scale('50m'))# 添加湖泊\n",
    "ax.add_feature(cfeature.BORDERS.with_scale('50m'), linestyle='-',lw=0.5)# 不推荐，我国丢失了藏南、台湾等领土\n",
    "ax.add_feature(cfeature.OCEAN.with_scale('50m'))#添加海洋\n",
    "\n",
    "# 调节字体大小\n",
    "gl = ax.gridlines(draw_labels=True, linewidth=0.2, color='k', alpha=0.5, linestyle='--')\n",
    "gl.xlabel_style={'size':6.5}\n",
    "gl.ylabel_style={'size':6.5}\n",
    "\n",
    "# 经纬度范围\n",
    "extent=[95,170,0,40]\n",
    "ax.set_extent(extent,crs=proj)\n",
    "\n",
    "line1, = ax.plot(df_lab[\"lon\"],df_lab[\"lat\"],marker='o',markersize=3, linewidth=0.5, c=\"r\",transform=ccrs.PlateCarree())\n",
    "line2, = ax.plot(df_pre[\"lon\"],df_pre[\"lat\"],marker='o',markersize=3, linewidth=0.5, c=\"b\",transform=ccrs.PlateCarree())\n",
    "\n",
    "ax = plt.gca() #返回坐标轴\n",
    "ax.legend(handles=[line1, line2], labels=['true','pred'],loc='upper right', fontsize=6)"
   ],
   "metadata": {
    "collapsed": false,
    "pycharm": {
     "name": "#%%\n"
    }
   }
  }
 ],
 "metadata": {
  "kernelspec": {
   "name": "main",
   "language": "python",
   "display_name": "main"
  },
  "language_info": {
   "codemirror_mode": {
    "name": "ipython",
    "version": 2
   },
   "file_extension": ".py",
   "mimetype": "text/x-python",
   "name": "python",
   "nbconvert_exporter": "python",
   "pygments_lexer": "ipython2",
   "version": "2.7.6"
  }
 },
 "nbformat": 4,
 "nbformat_minor": 0
}